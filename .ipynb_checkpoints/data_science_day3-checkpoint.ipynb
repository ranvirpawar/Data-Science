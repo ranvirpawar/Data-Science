{
 "cells": [
  {
   "cell_type": "code",
   "execution_count": null,
   "id": "162644a9",
   "metadata": {
    "scrolled": true
   },
   "outputs": [],
   "source": [
    "import matplotlib.pyplot as plt\n",
    "import numpy as np"
   ]
  },
  {
   "cell_type": "code",
   "execution_count": null,
   "id": "9b1f85d4",
   "metadata": {
    "scrolled": true
   },
   "outputs": [],
   "source": [
    "x = np.array([3,21,33,11,57,59,67,68, 45,])\n",
    "y = np.array([13,23,34,49,47,62,67,84,89])"
   ]
  },
  {
   "cell_type": "code",
   "execution_count": null,
   "id": "52244a90",
   "metadata": {
    "scrolled": true
   },
   "outputs": [],
   "source": [
    "plt.title(\"My first plot\")\n",
    "plt.xlabel(\"First Value\")\n",
    "plt.ylabel(\"Second value\")\n",
    "plt.grid()\n",
    "plt.xlim(0,8)\n",
    "plt.ylim(0,9)\n",
    "plt.xticks(range(0,68,10))\n",
    "plt.yticks(range(0,89,10))\n",
    "plt.plot(x, y)"
   ]
  },
  {
   "cell_type": "markdown",
   "id": "03322f39",
   "metadata": {},
   "source": [
    "## Scatter plot"
   ]
  },
  {
   "cell_type": "code",
   "execution_count": null,
   "id": "8040b87d",
   "metadata": {
    "scrolled": true
   },
   "outputs": [],
   "source": [
    "plt.title(\"scatter plot\")"
   ]
  },
  {
   "cell_type": "code",
   "execution_count": null,
   "id": "9296c3d1",
   "metadata": {
    "scrolled": true
   },
   "outputs": [],
   "source": [
    "\n"
   ]
  },
  {
   "cell_type": "code",
   "execution_count": null,
   "id": "9baf7ffe",
   "metadata": {
    "scrolled": true
   },
   "outputs": [],
   "source": [
    "java = np.array([67,45,62,89,65,47,85,76,78])\n",
    "python = np.array([56,85,62,89,65,47,55,96,78])\n",
    "cols = [1,2,1,3,2,1,3,2,3,]"
   ]
  },
  {
   "cell_type": "code",
   "execution_count": null,
   "id": "63c71304",
   "metadata": {
    "scrolled": true
   },
   "outputs": [],
   "source": [
    "plt.title(\"Students group\")\n",
    "plt.xlabel(\"Java\")\n",
    "plt.ylabel('python')\n",
    "plt.grid()\n",
    "plt.scatter(java, python, c=cols)"
   ]
  },
  {
   "cell_type": "markdown",
   "id": "28935b99",
   "metadata": {},
   "source": [
    "## bar plot"
   ]
  },
  {
   "cell_type": "code",
   "execution_count": null,
   "id": "584ef6fe",
   "metadata": {
    "scrolled": true
   },
   "outputs": [],
   "source": [
    "percentage = [86,56,78,94,34,45]\n",
    "subject = [\"python\",\"php\", \"java\", \"ds\", \"c\", \"oops\"]"
   ]
  },
  {
   "cell_type": "code",
   "execution_count": null,
   "id": "8400f2b5",
   "metadata": {
    "scrolled": true
   },
   "outputs": [],
   "source": [
    "plt.title(\"Result Analysis\")\n",
    "plt.xlabel(\"subject\")\n",
    "plt.ylabel(\"percentage\")\n",
    "plt.grid()\n",
    "plt.bar(subject, percentage, color=\"brown\")"
   ]
  },
  {
   "cell_type": "code",
   "execution_count": null,
   "id": "2a1cbf2b",
   "metadata": {
    "scrolled": true
   },
   "outputs": [],
   "source": [
    "plt.title(\"Result Analysis\")\n",
    "plt.xlabel(\"subject\")\n",
    "plt.ylabel(\"percentage\")\n",
    "plt.grid()\n",
    "plt.barh(subject, percentage, color=\"brown\")"
   ]
  },
  {
   "cell_type": "markdown",
   "id": "f3224080",
   "metadata": {},
   "source": [
    "## pie chart\n"
   ]
  },
  {
   "cell_type": "code",
   "execution_count": null,
   "id": "8be64176",
   "metadata": {
    "scrolled": true
   },
   "outputs": [],
   "source": [
    "enrollment = [167,67,89,106,48,99]\n",
    "courses = [\"python\",\"php\", \"java\", \"ds\", \"c\", \"oops\" ]\n",
    "           "
   ]
  },
  {
   "cell_type": "code",
   "execution_count": null,
   "id": "55d056e6",
   "metadata": {
    "scrolled": true
   },
   "outputs": [],
   "source": [
    "plt.figure(figsize = ( 10, 10))\n",
    "plt.pie(enrollment, labels = courses, autopct= '%2.2f%%');"
   ]
  },
  {
   "cell_type": "code",
   "execution_count": null,
   "id": "a34ce398",
   "metadata": {
    "scrolled": true
   },
   "outputs": [],
   "source": [
    "import pandas as pd \n"
   ]
  },
  {
   "cell_type": "code",
   "execution_count": null,
   "id": "f095206c",
   "metadata": {
    "scrolled": true
   },
   "outputs": [],
   "source": [
    "df = pd.read_csv('imcc.csv')"
   ]
  },
  {
   "cell_type": "code",
   "execution_count": null,
   "id": "3c7bb014",
   "metadata": {
    "scrolled": true
   },
   "outputs": [],
   "source": [
    "plt.figure(figsize = (16,9))\n",
    "plt.barh(df['name'], df['sgpa'])"
   ]
  },
  {
   "cell_type": "markdown",
   "id": "6a17b23d",
   "metadata": {},
   "source": [
    "## Unvariate Analysis\n",
    "\n"
   ]
  },
  {
   "cell_type": "markdown",
   "id": "3d81643d",
   "metadata": {},
   "source": [
    "# histogram"
   ]
  },
  {
   "cell_type": "code",
   "execution_count": null,
   "id": "41b1e52e",
   "metadata": {
    "scrolled": true
   },
   "outputs": [],
   "source": [
    "marks = np.array([56,67,87,73,35,46,25,65,89,94,56])"
   ]
  },
  {
   "cell_type": "code",
   "execution_count": null,
   "id": "d5f60b31",
   "metadata": {
    "scrolled": true
   },
   "outputs": [],
   "source": [
    "plt.xlabel('Range of marks')\n",
    "plt.ylabel('Count')\n",
    "plt.grid()\n",
    "plt.xticks(range(0,101,10))\n",
    "plt.hist(marks,color='red', bins= range(0,101,10))"
   ]
  },
  {
   "cell_type": "markdown",
   "id": "c40d7727",
   "metadata": {},
   "source": [
    "## Box plot"
   ]
  },
  {
   "cell_type": "code",
   "execution_count": null,
   "id": "1f8568df",
   "metadata": {
    "scrolled": true
   },
   "outputs": [],
   "source": [
    "plt.boxplot(marks);"
   ]
  },
  {
   "cell_type": "code",
   "execution_count": 52,
   "id": "02b01c5a",
   "metadata": {
    "scrolled": false
   },
   "outputs": [
    {
     "data": {
      "image/png": "[encoded data removed]",
      "text/plain": [
       "<Figure size 640x480 with 1 Axes>"
      ]
     },
     "metadata": {},
     "output_type": "display_data"
    }
   ],
   "source": [
    "plt.boxplot(df['sgpa']);"
   ]
  },
  {
   "cell_type": "code",
   "execution_count": null,
   "id": "b3ea1638",
   "metadata": {
    "scrolled": true
   },
   "outputs": [],
   "source": []
  },
  {
   "cell_type": "code",
   "execution_count": null,
   "id": "20d49453",
   "metadata": {
    "scrolled": true
   },
   "outputs": [],
   "source": []
  },
  {
   "cell_type": "code",
   "execution_count": null,
   "id": "571faaf9",
   "metadata": {
    "scrolled": true
   },
   "outputs": [],
   "source": []
  }
 ],
 "metadata": {
  "kernelspec": {
   "display_name": "Python 3 (ipykernel)",
   "language": "python",
   "name": "python3"
  },
  "language_info": {
   "codemirror_mode": {
    "name": "ipython",
    "version": 3
   },
   "file_extension": ".py",
   "mimetype": "text/x-python",
   "name": "python",
   "nbconvert_exporter": "python",
   "pygments_lexer": "ipython3",
   "version": "3.10.9"
  }
 },
 "nbformat": 4,
 "nbformat_minor": 5
}
