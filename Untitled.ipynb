{
 "cells": [
  {
   "cell_type": "code",
   "execution_count": 9,
   "id": "c0fa7315",
   "metadata": {},
   "outputs": [],
   "source": [
    "import numpy as np"
   ]
  },
  {
   "cell_type": "code",
   "execution_count": 2,
   "id": "7399efe9",
   "metadata": {},
   "outputs": [],
   "source": [
    "import pandas as pd"
   ]
  },
  {
   "cell_type": "code",
   "execution_count": 3,
   "id": "e2c595d4",
   "metadata": {},
   "outputs": [],
   "source": [
    "gender = pd.Series(['M', 'M', 'F', 'F', 'M', 'M', 'F'])"
   ]
  },
  {
   "cell_type": "code",
   "execution_count": 4,
   "id": "6485eb81",
   "metadata": {},
   "outputs": [
    {
     "data": {
      "text/plain": [
       "M    4\n",
       "F    3\n",
       "dtype: int64"
      ]
     },
     "execution_count": 4,
     "metadata": {},
     "output_type": "execute_result"
    }
   ],
   "source": [
    "gender.value_counts()"
   ]
  },
  {
   "cell_type": "code",
   "execution_count": 5,
   "id": "b208365a",
   "metadata": {},
   "outputs": [
    {
     "data": {
      "text/plain": [
       "0    M\n",
       "dtype: object"
      ]
     },
     "execution_count": 5,
     "metadata": {},
     "output_type": "execute_result"
    }
   ],
   "source": [
    "gender.mode()"
   ]
  },
  {
   "cell_type": "code",
   "execution_count": 6,
   "id": "2382e356",
   "metadata": {},
   "outputs": [],
   "source": [
    "ages = pd.Series([22,21,23,22,22,20,21,22,23,24,20,23,22,21,21])"
   ]
  },
  {
   "cell_type": "code",
   "execution_count": 8,
   "id": "048bfc33",
   "metadata": {},
   "outputs": [
    {
     "data": {
      "text/plain": [
       "22    5\n",
       "21    4\n",
       "23    3\n",
       "20    2\n",
       "24    1\n",
       "dtype: int64"
      ]
     },
     "execution_count": 8,
     "metadata": {},
     "output_type": "execute_result"
    }
   ],
   "source": [
    "ages.value_counts()"
   ]
  },
  {
   "cell_type": "code",
   "execution_count": 7,
   "id": "8016098f",
   "metadata": {
    "scrolled": true
   },
   "outputs": [
    {
     "data": {
      "text/plain": [
       "0    22\n",
       "dtype: int64"
      ]
     },
     "execution_count": 7,
     "metadata": {},
     "output_type": "execute_result"
    }
   ],
   "source": [
    "ages.mode()"
   ]
  },
  {
   "cell_type": "code",
   "execution_count": 10,
   "id": "0ed45e0c",
   "metadata": {},
   "outputs": [],
   "source": [
    "x = np.arange(1,91)"
   ]
  },
  {
   "cell_type": "code",
   "execution_count": 12,
   "id": "dc4938a4",
   "metadata": {},
   "outputs": [
    {
     "data": {
      "text/plain": [
       "45.5"
      ]
     },
     "execution_count": 12,
     "metadata": {},
     "output_type": "execute_result"
    }
   ],
   "source": [
    "x.mean()"
   ]
  },
  {
   "cell_type": "code",
   "execution_count": 13,
   "id": "2f82768a",
   "metadata": {},
   "outputs": [
    {
     "data": {
      "text/plain": [
       "45.5"
      ]
     },
     "execution_count": 13,
     "metadata": {},
     "output_type": "execute_result"
    }
   ],
   "source": [
    "np.median(x)"
   ]
  },
  {
   "cell_type": "markdown",
   "id": "305aecb1",
   "metadata": {},
   "source": [
    "## mid range"
   ]
  },
  {
   "cell_type": "code",
   "execution_count": 17,
   "id": "d4b6a027",
   "metadata": {},
   "outputs": [],
   "source": [
    "num = np.array([ 67, 44, 32, 67, 34 , 88,  73])"
   ]
  },
  {
   "cell_type": "code",
   "execution_count": 31,
   "id": "3563622f",
   "metadata": {},
   "outputs": [
    {
     "data": {
      "text/plain": [
       "60.0"
      ]
     },
     "execution_count": 31,
     "metadata": {},
     "output_type": "execute_result"
    }
   ],
   "source": [
    "(max(num) + min(num))/2\n"
   ]
  },
  {
   "cell_type": "markdown",
   "id": "5c70a408",
   "metadata": {},
   "source": [
    "## mean absoulute deviation"
   ]
  },
  {
   "cell_type": "code",
   "execution_count": 18,
   "id": "660dc027",
   "metadata": {},
   "outputs": [
    {
     "data": {
      "text/plain": [
       "18.163265306122447"
      ]
     },
     "execution_count": 18,
     "metadata": {},
     "output_type": "execute_result"
    }
   ],
   "source": [
    "np.mean(abs((num-num.mean())))"
   ]
  },
  {
   "cell_type": "code",
   "execution_count": 20,
   "id": "689c3c37",
   "metadata": {},
   "outputs": [],
   "source": [
    "x = np.ones(10) + 20"
   ]
  },
  {
   "cell_type": "code",
   "execution_count": 21,
   "id": "12498d7e",
   "metadata": {},
   "outputs": [
    {
     "data": {
      "text/plain": [
       "array([21., 21., 21., 21., 21., 21., 21., 21., 21., 21.])"
      ]
     },
     "execution_count": 21,
     "metadata": {},
     "output_type": "execute_result"
    }
   ],
   "source": [
    "x"
   ]
  },
  {
   "cell_type": "code",
   "execution_count": 22,
   "id": "772b4649",
   "metadata": {},
   "outputs": [
    {
     "data": {
      "text/plain": [
       "0.0"
      ]
     },
     "execution_count": 22,
     "metadata": {},
     "output_type": "execute_result"
    }
   ],
   "source": [
    "np.mean(abs(x - x.mean()))"
   ]
  },
  {
   "cell_type": "markdown",
   "id": "f717363e",
   "metadata": {},
   "source": [
    "## variance"
   ]
  },
  {
   "cell_type": "code",
   "execution_count": 24,
   "id": "2cb61a33",
   "metadata": {},
   "outputs": [
    {
     "data": {
      "text/plain": [
       "390.69387755102036"
      ]
     },
     "execution_count": 24,
     "metadata": {},
     "output_type": "execute_result"
    }
   ],
   "source": [
    "np.mean((num - num.mean())**2)"
   ]
  },
  {
   "cell_type": "markdown",
   "id": "a5b7fd2c",
   "metadata": {},
   "source": [
    "### standard deviation"
   ]
  },
  {
   "cell_type": "code",
   "execution_count": 27,
   "id": "332e0735",
   "metadata": {},
   "outputs": [
    {
     "data": {
      "text/plain": [
       "19.76597777877483"
      ]
     },
     "execution_count": 27,
     "metadata": {},
     "output_type": "execute_result"
    }
   ],
   "source": [
    "np.sqrt(np.mean((num - num.mean())**2))"
   ]
  },
  {
   "cell_type": "code",
   "execution_count": 28,
   "id": "3744eeb3",
   "metadata": {},
   "outputs": [
    {
     "data": {
      "text/plain": [
       "19.76597777877483"
      ]
     },
     "execution_count": 28,
     "metadata": {},
     "output_type": "execute_result"
    }
   ],
   "source": [
    "num.std()"
   ]
  },
  {
   "cell_type": "code",
   "execution_count": 29,
   "id": "e0920b79",
   "metadata": {},
   "outputs": [
    {
     "data": {
      "text/plain": [
       "19.76597777877483"
      ]
     },
     "execution_count": 29,
     "metadata": {},
     "output_type": "execute_result"
    }
   ],
   "source": [
    "np.std(num)"
   ]
  },
  {
   "cell_type": "markdown",
   "id": "4e155eb6",
   "metadata": {},
   "source": [
    "### Structured Data Analysis\n",
    "\n"
   ]
  },
  {
   "cell_type": "code",
   "execution_count": null,
   "id": "78b5de8e",
   "metadata": {},
   "outputs": [],
   "source": [
    " "
   ]
  }
 ],
 "metadata": {
  "kernelspec": {
   "display_name": "Python 3 (ipykernel)",
   "language": "python",
   "name": "python3"
  },
  "language_info": {
   "codemirror_mode": {
    "name": "ipython",
    "version": 3
   },
   "file_extension": ".py",
   "mimetype": "text/x-python",
   "name": "python",
   "nbconvert_exporter": "python",
   "pygments_lexer": "ipython3",
   "version": "3.10.9"
  }
 },
 "nbformat": 4,
 "nbformat_minor": 5
}
