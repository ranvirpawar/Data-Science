{
 "cells": [
  {
   "cell_type": "code",
   "execution_count": null,
   "id": "e0dd89a9",
   "metadata": {
    "collapsed": true
   },
   "outputs": [],
   "source": [
    "import matplotlib.pyplot as plt\n",
    "import numpy as np"
   ]
  },
  {
   "cell_type": "code",
   "execution_count": null,
   "id": "df3adbeb",
   "metadata": {
    "scrolled": false
   },
   "outputs": [],
   "source": [
    "x = np.array([3,21,33,11,57,59,67,68, 45,])\n",
    "y = np.array([13,23,34,49,47,62,67,84,89])"
   ]
  },
  {
   "cell_type": "code",
   "execution_count": null,
   "id": "ee9e1878",
   "metadata": {
    "scrolled": false
   },
   "outputs": [],
   "source": [
    "plt.title(\"My first plot\")\n",
    "plt.xlabel(\"First Value\")\n",
    "plt.ylabel(\"Second value\")\n",
    "plt.grid()\n",
    "plt.xlim(0,8)\n",
    "plt.ylim(0,9)\n",
    "plt.xticks(range(0,68,10))\n",
    "plt.yticks(range(0,89,10))\n",
    "plt.plot(x, y)"
   ]
  },
  {
   "cell_type": "markdown",
   "id": "a97c68c1",
   "metadata": {},
   "source": [
    "## Scatter plot"
   ]
  },
  {
   "cell_type": "code",
   "execution_count": null,
   "id": "89815d49",
   "metadata": {
    "scrolled": false
   },
   "outputs": [],
   "source": [
    "plt.title(\"scatter plot\")"
   ]
  },
  {
   "cell_type": "code",
   "execution_count": null,
   "id": "8c1abcb9",
   "metadata": {
    "scrolled": false
   },
   "outputs": [],
   "source": [
    "\n"
   ]
  },
  {
   "cell_type": "code",
   "execution_count": null,
   "id": "e1d0c179",
   "metadata": {
    "scrolled": false
   },
   "outputs": [],
   "source": [
    "java = np.array([67,45,62,89,65,47,85,76,78])\n",
    "python = np.array([56,85,62,89,65,47,55,96,78])\n",
    "cols = [1,2,1,3,2,1,3,2,3,]"
   ]
  },
  {
   "cell_type": "code",
   "execution_count": null,
   "id": "53ad27dd",
   "metadata": {
    "scrolled": false
   },
   "outputs": [],
   "source": [
    "plt.title(\"Students group\")\n",
    "plt.xlabel(\"Java\")\n",
    "plt.ylabel('python')\n",
    "plt.grid()\n",
    "plt.scatter(java, python, c=cols)"
   ]
  },
  {
   "cell_type": "markdown",
   "id": "396aec01",
   "metadata": {},
   "source": [
    "## bar plot"
   ]
  },
  {
   "cell_type": "code",
   "execution_count": null,
   "id": "83015171",
   "metadata": {
    "scrolled": false
   },
   "outputs": [],
   "source": [
    "percentage = [86,56,78,94,34,45]\n",
    "subject = [\"python\",\"php\", \"java\", \"ds\", \"c\", \"oops\"]"
   ]
  },
  {
   "cell_type": "code",
   "execution_count": null,
   "id": "b1d043e2",
   "metadata": {
    "scrolled": false
   },
   "outputs": [],
   "source": [
    "plt.title(\"Result Analysis\")\n",
    "plt.xlabel(\"subject\")\n",
    "plt.ylabel(\"percentage\")\n",
    "plt.grid()\n",
    "plt.bar(subject, percentage, color=\"brown\")"
   ]
  },
  {
   "cell_type": "code",
   "execution_count": null,
   "id": "bee2bc20",
   "metadata": {
    "scrolled": false
   },
   "outputs": [],
   "source": [
    "plt.title(\"Result Analysis\")\n",
    "plt.xlabel(\"subject\")\n",
    "plt.ylabel(\"percentage\")\n",
    "plt.grid()\n",
    "plt.barh(subject, percentage, color=\"brown\")"
   ]
  },
  {
   "cell_type": "markdown",
   "id": "0d805b7e",
   "metadata": {},
   "source": [
    "## pie chart\n"
   ]
  },
  {
   "cell_type": "code",
   "execution_count": null,
   "id": "82a050a8",
   "metadata": {
    "scrolled": false
   },
   "outputs": [],
   "source": [
    "enrollment = [167,67,89,106,48,99]\n",
    "courses = [\"python\",\"php\", \"java\", \"ds\", \"c\", \"oops\" ]\n",
    "           "
   ]
  },
  {
   "cell_type": "code",
   "execution_count": null,
   "id": "873c5686",
   "metadata": {
    "scrolled": false
   },
   "outputs": [],
   "source": [
    "plt.figure(figsize = ( 10, 10))\n",
    "plt.pie(enrollment, labels = courses, autopct= '%2.2f%%');"
   ]
  },
  {
   "cell_type": "code",
   "execution_count": null,
   "id": "db544681",
   "metadata": {
    "scrolled": false
   },
   "outputs": [],
   "source": [
    "import pandas as pd \n"
   ]
  },
  {
   "cell_type": "code",
   "execution_count": null,
   "id": "4e1758ca",
   "metadata": {
    "scrolled": false
   },
   "outputs": [],
   "source": [
    "df = pd.read_csv('imcc.csv')"
   ]
  },
  {
   "cell_type": "code",
   "execution_count": null,
   "id": "de047c33",
   "metadata": {
    "scrolled": false
   },
   "outputs": [],
   "source": [
    "plt.figure(figsize = (16,9))\n",
    "plt.barh(df['name'], df['sgpa'])"
   ]
  },
  {
   "cell_type": "markdown",
   "id": "885885df",
   "metadata": {},
   "source": [
    "## Unvariate Analysis\n",
    "\n"
   ]
  },
  {
   "cell_type": "markdown",
   "id": "17272609",
   "metadata": {},
   "source": [
    "# histogram"
   ]
  },
  {
   "cell_type": "code",
   "execution_count": null,
   "id": "57819c26",
   "metadata": {
    "scrolled": false
   },
   "outputs": [],
   "source": [
    "marks = np.array([56,67,87,73,35,46,25,65,89,94,56])"
   ]
  },
  {
   "cell_type": "code",
   "execution_count": null,
   "id": "c3e8403f",
   "metadata": {
    "scrolled": false
   },
   "outputs": [],
   "source": [
    "plt.xlabel('Range of marks')\n",
    "plt.ylabel('Count')\n",
    "plt.grid()\n",
    "plt.xticks(range(0,101,10))\n",
    "plt.hist(marks,color='red', bins= range(0,101,10))"
   ]
  },
  {
   "cell_type": "markdown",
   "id": "a7121190",
   "metadata": {},
   "source": [
    "## Box plot"
   ]
  },
  {
   "cell_type": "code",
   "execution_count": null,
   "id": "31afe0e4",
   "metadata": {
    "scrolled": false
   },
   "outputs": [],
   "source": [
    "plt.boxplot(marks);"
   ]
  },
  {
   "cell_type": "code",
   "execution_count": null,
   "id": "44d15311",
   "metadata": {
    "scrolled": true
   },
   "outputs": [],
   "source": [
    "plt.boxplot(df['sgpa']);"
   ]
  },
  {
   "cell_type": "code",
   "execution_count": null,
   "id": "989be5ad",
   "metadata": {
    "scrolled": false
   },
   "outputs": [],
   "source": []
  },
  {
   "cell_type": "code",
   "execution_count": null,
   "id": "b3ffe264",
   "metadata": {
    "scrolled": false
   },
   "outputs": [],
   "source": []
  },
  {
   "cell_type": "code",
   "execution_count": null,
   "id": "6f3fc01d",
   "metadata": {
    "scrolled": false
   },
   "outputs": [],
   "source": []
  }
 ],
 "metadata": {
  "kernelspec": {
   "display_name": "Python 3 (ipykernel)",
   "language": "python",
   "name": "python3"
  },
  "language_info": {
   "codemirror_mode": {
    "name": "ipython",
    "version": 3
   },
   "file_extension": ".py",
   "mimetype": "text/x-python",
   "name": "python",
   "nbconvert_exporter": "python",
   "pygments_lexer": "ipython3",
   "version": "3.10.9"
  }
 },
 "nbformat": 4,
 "nbformat_minor": 5
}
